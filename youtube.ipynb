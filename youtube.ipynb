{
 "cells": [
  {
   "cell_type": "code",
   "execution_count": null,
   "metadata": {},
   "outputs": [],
   "source": [
    "from asyncio import Queue, gather, run\n",
    "from datetime import datetime"
   ]
  },
  {
   "cell_type": "code",
   "execution_count": null,
   "metadata": {},
   "outputs": [],
   "source": [
    "WORKS = 10\n",
    "\n",
    "async def log(url):\n",
    "    with open('log.csv', 'a') as f:\n",
    "        print(f'Error na url: {url}')\n",
    "        f.write(f'{datetime.now()};{url}\\n')\n",
    "\n",
    "\n",
    "async def download(url):\n",
    "    try:\n",
    "        yt = YouTube(url)\n",
    "        audio = yt.streams.filter(only_audio=True)[0]\n",
    "        audio.download()\n",
    "        print(url)\n",
    "    except:\n",
    "        await log(url)\n",
    "\n",
    "\n",
    "async def get_play_list(url_base):\n",
    "    plays = Queue()\n",
    "    playlist = Playlist(url_base)\n",
    "    for e, url in enumerate(playlist):\n",
    "        await plays.put((url, e))\n",
    "    return plays\n",
    "\n",
    "\n",
    "async def download_videos(play_list):\n",
    "    while play_list.qsize() != 0:\n",
    "        print(f'Try download {play_list.qsize()}')\n",
    "        url = await play_list.get()\n",
    "        await download(url[0])\n",
    "    print(f\"Finisher\")"
   ]
  },
  {
   "cell_type": "code",
   "execution_count": null,
   "metadata": {},
   "outputs": [],
   "source": [
    "async def main():\n",
    "    PLAYLIST_URL = 'https://www.youtube.com/playlist?list=PL3osQJLUr9gIyTQaJtxT_B75LUWb8WPut'\n",
    "    play_list = await get_play_list(PLAYLIST_URL)\n",
    "    print(f'lenght list: {play_list.qsize()}')\n",
    "\n",
    "    tasks = []\n",
    "    for _ in range(WORKS):\n",
    "        tasks.append(create_task(download_videos(play_list)))\n",
    "    return await gather(*tasks)"
   ]
  },
  {
   "cell_type": "code",
   "execution_count": null,
   "metadata": {},
   "outputs": [],
   "source": [
    "run(main())"
   ]
  }
 ],
 "metadata": {
  "kernelspec": {
   "display_name": "venv",
   "language": "python",
   "name": "python3"
  },
  "language_info": {
   "codemirror_mode": {
    "name": "ipython",
    "version": 3
   },
   "file_extension": ".py",
   "mimetype": "text/x-python",
   "name": "python",
   "nbconvert_exporter": "python",
   "pygments_lexer": "ipython3",
   "version": "3.11.0"
  },
  "orig_nbformat": 4,
  "vscode": {
   "interpreter": {
    "hash": "123c184895b77db8500e25a7f9df8abc984d4e5c4574313352e715bd89115aa2"
   }
  }
 },
 "nbformat": 4,
 "nbformat_minor": 2
}
