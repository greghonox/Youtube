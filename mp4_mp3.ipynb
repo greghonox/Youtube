{
 "cells": [
  {
   "cell_type": "code",
   "execution_count": null,
   "metadata": {},
   "outputs": [],
   "source": [
    "import subprocess\n",
    "from asyncio import Queue, gather, run, create_task\n",
    "from glob import glob\n",
    "from os.path import join, basename"
   ]
  },
  {
   "cell_type": "code",
   "execution_count": null,
   "metadata": {},
   "outputs": [],
   "source": [
    "WORKS = 10\n",
    "\n",
    "async def log(url):\n",
    "    with open('log.csv', 'a') as f:\n",
    "        print(f'Error na url: {url}')\n",
    "        f.write(f'{datetime.now()};{url}\\n')\n",
    "        \n",
    "        \n",
    "async def get_path_mp4(path_mp4):\n",
    "    plays = Queue()\n",
    "    mp4s = glob(join(path_mp4, '*.mp4'))\n",
    "    for e, path in enumerate(mp4s):\n",
    "        await plays.put((path, e))\n",
    "    return plays\n",
    "\n",
    "\n",
    "async def mp4_to_mp3(input_file, output_file):\n",
    "    print(basename(input_file), output_file)\n",
    "    try:\n",
    "        p = subprocess.Popen(['ffmpeg', '-i', input_file, '-vn', '-acodec', 'libmp3lame', '-y', output_file])\n",
    "        await p.communicate()\n",
    "    except:\n",
    "        log(output_file)\n",
    "\n",
    "\n",
    "async def convert(queue, path_output):\n",
    "    while queue.qsize() != 0:\n",
    "        input_path = await queue.get()\n",
    "        await mp4_to_mp3(input_path[0], join(path_output, basename(input_path[0]))[:-1] + '3')\n",
    "\n",
    "\n",
    "async def main():\n",
    "    path_input = '/home/gregorio/Documentos/PROJETOS/ESTUDOS/SCRIPTS/'\n",
    "    path_output = '/home/gregorio/Documentos/PROJETOS/ESTUDOS/SCRIPTS/mp3'\n",
    "    mp4s_list = await get_path_mp4(path_input)\n",
    "    print(f'lenght list: {mp4s_list.qsize()}')\n",
    "\n",
    "    tasks = []\n",
    "    for _ in range(WORKS):\n",
    "        tasks.append(create_task(convert(mp4s_list, path_output)))\n",
    "    return await gather(*tasks)"
   ]
  },
  {
   "cell_type": "code",
   "execution_count": null,
   "metadata": {},
   "outputs": [],
   "source": [
    "run(main())"
   ]
  }
 ],
 "metadata": {
  "kernelspec": {
   "display_name": "venv",
   "language": "python",
   "name": "python3"
  },
  "language_info": {
   "codemirror_mode": {
    "name": "ipython",
    "version": 3
   },
   "file_extension": ".py",
   "mimetype": "text/x-python",
   "name": "python",
   "nbconvert_exporter": "python",
   "pygments_lexer": "ipython3",
   "version": "3.11.0"
  },
  "orig_nbformat": 4,
  "vscode": {
   "interpreter": {
    "hash": "123c184895b77db8500e25a7f9df8abc984d4e5c4574313352e715bd89115aa2"
   }
  }
 },
 "nbformat": 4,
 "nbformat_minor": 2
}
